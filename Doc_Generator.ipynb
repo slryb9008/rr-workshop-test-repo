{
 "cells": [
  {
   "cell_type": "markdown",
   "metadata": {},
   "source": [
    "# Sample Document Generator "
   ]
  },
  {
   "cell_type": "markdown",
   "metadata": {},
   "source": [
    "This is the first program of my project which will generate the sample set of documents the main \"Retention Checker\" program will check. Because confidentiality protocols prevent me from using real document information, I need dummy documents to run the code on. \n",
    "\n",
    "The goal of this program is to produce an outfile of a large number of dummy documents. The bank I work for has over 15,000 loans, each with dozens of documents but for the purposes of this project, I'd like the main program to check a sample set of 500 documents. Considering how specific the parameters for retention are, I feel like I need a lot of samples to see the code really working. "
   ]
  },
  {
   "cell_type": "markdown",
   "metadata": {},
   "source": [
    "## Setting Up the Program "
   ]
  },
  {
   "cell_type": "markdown",
   "metadata": {},
   "source": [
    "In order to generate the sample docs I need to do some set-up. First, I need to import a few modules I will be using later."
   ]
  },
  {
   "cell_type": "code",
   "execution_count": null,
   "metadata": {},
   "outputs": [],
   "source": [
    "import random\n",
    "from random import randint\n",
    "import datetime\n",
    "import csv"
   ]
  },
  {
   "cell_type": "markdown",
   "metadata": {},
   "source": [
    "Next, I need to set up my reference dates. "
   ]
  },
  {
   "cell_type": "code",
   "execution_count": 3,
   "metadata": {},
   "outputs": [
    {
     "name": "stdout",
     "output_type": "stream",
     "text": [
      "current date is 2020-05-09 21:11:04.455519\n",
      "open date is 2001-01-01 00:00:00\n"
     ]
    }
   ],
   "source": [
    "current_date = datetime.datetime.today()\n",
    "open_date = datetime.datetime(2001,1,1)\n",
    "\n",
    "print(\"current date is\", current_date)\n",
    "print(\"open date is\", open_date)"
   ]
  },
  {
   "cell_type": "markdown",
   "metadata": {},
   "source": [
    "Using the datetime module I set up the current date. In reality, new documents will be produced every day so to simulate that, I need the program to operate using the current date. \n",
    "\n",
    "I also set up a \"Open Date\" which represents the date my hypothetical bank opened. No documents can be created before that date which gets me as close to reality as possible with the dummy documents. "
   ]
  },
  {
   "cell_type": "markdown",
   "metadata": {},
   "source": [
    "Finally, I import my \"Reference Schedule Guide.\""
   ]
  },
  {
   "cell_type": "code",
   "execution_count": null,
   "metadata": {},
   "outputs": [],
   "source": [
    "reference = open(\"Retention Schedule Guide\", 'r') \n",
    "doc_type_list = reference.readlines()\n",
    "reference.close()"
   ]
  },
  {
   "cell_type": "markdown",
   "metadata": {},
   "source": [
    "This step isn't entirely necessary. I created the guide for my personal reference when setting up the retention parameters. However, I figured I could easily extract the Document Type Codes from the guide to save some typing time. "
   ]
  },
  {
   "cell_type": "code",
   "execution_count": null,
   "metadata": {},
   "outputs": [],
   "source": [
    "doc_series_codes = [] \n",
    "for line in doc_type_list[1:]: \n",
    "    doc_line = line.split()\n",
    "    doc_type = doc_line[0] \n",
    "    doc_series_codes.append(doc_type)"
   ]
  },
  {
   "cell_type": "markdown",
   "metadata": {},
   "source": [
    "Using a for loop and accumulator starting with position [1] of the guide in order to skip the header text. Then I slice out the Doc Code in position [0] of each line and add it to the accumulator. "
   ]
  },
  {
   "cell_type": "code",
   "execution_count": null,
   "metadata": {},
   "outputs": [],
   "source": [
    "print(doc_series_codes)\n",
    "['ACC100', 'ACC180', 'ACC160', 'ACC300', 'ACC340', 'ACC400', 'ACC500', 'ACC520', 'ADM440', 'BNK100', 'BNK120', 'BNK130', 'BNK140', 'BNK160', 'BNK170', 'BNK180', 'BNK300', 'BNK400', 'GEN200', 'GEN210']\n"
   ]
  },
  {
   "cell_type": "markdown",
   "metadata": {},
   "source": [
    "I now have a list of the potential Document Type Codes to generate sample documents from. "
   ]
  }
 ],
 "metadata": {
  "kernelspec": {
   "display_name": "Python 3",
   "language": "python",
   "name": "python3"
  },
  "language_info": {
   "codemirror_mode": {
    "name": "ipython",
    "version": 3
   },
   "file_extension": ".py",
   "mimetype": "text/x-python",
   "name": "python",
   "nbconvert_exporter": "python",
   "pygments_lexer": "ipython3",
   "version": "3.7.4"
  }
 },
 "nbformat": 4,
 "nbformat_minor": 4
}
