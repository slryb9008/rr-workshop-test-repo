{
 "cells": [
  {
   "cell_type": "markdown",
   "metadata": {},
   "source": [
    "# Sample Document Generator "
   ]
  },
  {
   "cell_type": "markdown",
   "metadata": {},
   "source": [
    "This is the first program of my project which will generate the sample set of documents the main \"Retention Checker\" program will check. Because confidentiality protocols prevent me from using real document information, I need dummy documents to run the code on. \n",
    "\n",
    "The goal of this program is to produce an outfile of a large number of dummy documents. The bank I work for has over 15,000 loans, each with dozens of documents but for the purposes of this project, I'd like the main program to check a sample set of 500 documents. Considering how specific the parameters for retention are, I feel like I need a lot of samples to see the code really working. "
   ]
  },
  {
   "cell_type": "markdown",
   "metadata": {},
   "source": [
    "## Setting Up the Program "
   ]
  },
  {
   "cell_type": "markdown",
   "metadata": {},
   "source": [
    "In order to generate the sample docs I need to do some set-up. First, I need to import a few modules I will be using later."
   ]
  },
  {
   "cell_type": "code",
   "execution_count": null,
   "metadata": {},
   "outputs": [],
   "source": [
    "import random\n",
    "from random import randint\n",
    "import datetime\n",
    "import csv"
   ]
  },
  {
   "cell_type": "markdown",
   "metadata": {},
   "source": [
    "Next, I need to set up my reference dates. "
   ]
  },
  {
   "cell_type": "code",
   "execution_count": 3,
   "metadata": {},
   "outputs": [
    {
     "name": "stdout",
     "output_type": "stream",
     "text": [
      "current date is 2020-05-09 21:11:04.455519\n",
      "open date is 2001-01-01 00:00:00\n"
     ]
    }
   ],
   "source": [
    "current_date = datetime.datetime.today()\n",
    "open_date = datetime.datetime(2001,1,1)\n",
    "\n",
    "print(\"current date is\", current_date)\n",
    "print(\"open date is\", open_date)"
   ]
  },
  {
   "cell_type": "markdown",
   "metadata": {},
   "source": [
    "Using the datetime module I set up the current date. In reality, new documents will be produced every day so to simulate that, I need the program to operate using the current date. \n",
    "\n",
    "I also set up a \"Open Date\" which represents the date my hypothetical bank opened. No documents can be created before that date which gets me as close to reality as possible with the dummy documents. "
   ]
  },
  {
   "cell_type": "markdown",
   "metadata": {},
   "source": [
    "Finally, I import my \"Reference Schedule Guide.\""
   ]
  },
  {
   "cell_type": "code",
   "execution_count": null,
   "metadata": {},
   "outputs": [],
   "source": [
    "reference = open(\"Retention Schedule Guide\", 'r') \n",
    "doc_type_list = reference.readlines()\n",
    "reference.close()"
   ]
  },
  {
   "cell_type": "markdown",
   "metadata": {},
   "source": [
    "This step isn't entirely necessary. I created the guide for my personal reference when setting up the retention parameters. However, I figured I could easily extract the Document Type Codes from the guide to save some typing time. "
   ]
  },
  {
   "cell_type": "code",
   "execution_count": null,
   "metadata": {},
   "outputs": [],
   "source": [
    "doc_series_codes = [] \n",
    "for line in doc_type_list[1:]: \n",
    "    doc_line = line.split()\n",
    "    doc_type = doc_line[0] \n",
    "    doc_series_codes.append(doc_type)"
   ]
  },
  {
   "cell_type": "markdown",
   "metadata": {},
   "source": [
    "Using a for loop and accumulator starting with position [1] of the guide in order to skip the header text. Then I slice out the Doc Code in position [0] of each line and add it to the accumulator. "
   ]
  },
  {
   "cell_type": "code",
   "execution_count": null,
   "metadata": {},
   "outputs": [],
   "source": [
    "print(doc_series_codes)\n",
    "['ACC100', 'ACC180', 'ACC160', 'ACC300', 'ACC340', 'ACC400', 'ACC500', 'ACC520', 'ADM440', 'BNK100', 'BNK120', 'BNK130', 'BNK140', 'BNK160', 'BNK170', 'BNK180', 'BNK300', 'BNK400', 'GEN200', 'GEN210']\n"
   ]
  },
  {
   "cell_type": "markdown",
   "metadata": {},
   "source": [
    "I now have a list of the potential Document Type Codes to generate sample documents from. Now I'll just set up the csv outfile script just to get that out of the way."
   ]
  },
  {
   "cell_type": "code",
   "execution_count": null,
   "metadata": {},
   "outputs": [],
   "source": [
    "outfile = open('sample_docs.csv', 'w')\n",
    "doc_csv = csv.writer(outfile) \n",
    "doc_csv.writerow(['Doc Code',\"Doc Creation Date\", \"Doc Expiration Date(if applicable) \", \"Accnt #\", \"Accnt Closed?\", \"Accnt Close Date\"])"
   ]
  },
  {
   "cell_type": "markdown",
   "metadata": {},
   "source": [
    "This creates the csv outfile titled `sample_docs_csv` and also names the csv row headers. For the purposes of the retention checker, the following fields will be defined by the Sample Doc Generator: \n",
    "\n",
    "* Document Type Code \n",
    "* Date Doc is Created\n",
    "* Doc Expiration Date (if applicable)\n",
    "* Account Number (if applicable) \n",
    "* Is the account open or closed? \n",
    "* If closed, the close date\n",
    "\n",
    "Now its time to generate some docs!"
   ]
  },
  {
   "cell_type": "markdown",
   "metadata": {},
   "source": [
    "## Random Doc Generator "
   ]
  },
  {
   "cell_type": "markdown",
   "metadata": {},
   "source": [
    "First, I add a little status_ref list"
   ]
  },
  {
   "cell_type": "code",
   "execution_count": null,
   "metadata": {},
   "outputs": [],
   "source": [
    "status_ref = (\"Y\",\"N\")"
   ]
  },
  {
   "cell_type": "markdown",
   "metadata": {},
   "source": [
    "I'm going to use this in the main function to randomly determine if an account is opened or closed. More on that later. \n",
    "\n",
    "The big problem with the retention parameters is that it involves a great deal of logic that make the program pretty complicated. The main function needed a lot of layers and nested filters to get the right simulated docs. \n",
    "\n",
    "The first portion of the function sets up the accumulator and the random doc code generator. "
   ]
  },
  {
   "cell_type": "code",
   "execution_count": null,
   "metadata": {},
   "outputs": [],
   "source": [
    "def main():\n",
    "    sample_doc = []\n",
    "    doc_series = (random.choice(doc_series_codes))\n",
    "    sample_doc.append(doc_series)\n",
    "    start = open_date.toordinal()\n",
    "    end = current_date.toordinal()\n",
    "    doc_date = current_date.fromordinal(random.randint(start, end))\n",
    "    sample_doc.append(str(doc_date))"
   ]
  },
  {
   "cell_type": "markdown",
   "metadata": {},
   "source": [
    "The function generates one single document and `sample_doc` serves as our accumulator to hold all of that sample doc's information. Using the random module, the function selects a random doc code from our list, then assigns it a creation date within the range of the bank open date and the current date. \n",
    "\n",
    "Next, we filter through each of the other doc stats by filtering through each potential doc type. This is where it starts getting complicated. "
   ]
  },
  {
   "cell_type": "code",
   "execution_count": null,
   "metadata": {},
   "outputs": [],
   "source": [
    "    if doc_series == \"ACC160\":\n",
    "        start_exp = doc_date.toordinal()\n",
    "        end_exp = current_date.toordinal()\n",
    "        exp_date = current_date.fromordinal(random.randint(start_exp, end_exp))\n",
    "        sample_doc.append(str(exp_date))\n",
    "        sample_doc.append(\"0000000\")\n",
    "        sample_doc.append(\"0000-00-00 00:00:00\")\n",
    "        sample_doc.append(\"NA\")\n",
    "        sample_doc.append(\"0000-00-00 00:00:00\")"
   ]
  },
  {
   "cell_type": "markdown",
   "metadata": {},
   "source": [
    "I have the function look at the random Doc Code and assign details from there. Doc Type ACC160, for example, is a document that can expire. This date is set by the bank and depends on various factors so I used the randint module to assign a date any time after the doc creation date and before the current date. \n",
    "\n",
    "Then that's it. ACC160 is not account related so I don't need an account number, closing date, etc. I just append zeros for the rest of the fields. "
   ]
  },
  {
   "cell_type": "code",
   "execution_count": null,
   "metadata": {},
   "outputs": [],
   "source": [
    "    elif doc_series == \"BNK100\":\n",
    "        sample_doc.append(\"0000-00-00 00:00:00\")\n",
    "        account_no = str(random_account_no(8)) \n",
    "        sample_doc.append(account_no)\n",
    "        start_open = open_date.toordinal()\n",
    "        end_open = doc_date.toordinal()\n",
    "        account_open_date = current_date.fromordinal(random.randint(start_open, end_open))\n",
    "        sample_doc.append(str(account_open_date))\n",
    "        account_status = (random.choice(status_ref))"
   ]
  },
  {
   "cell_type": "markdown",
   "metadata": {},
   "source": [
    "Next I look at BNK100. This doc does not have a set expiration date so I enter zero for that. But it is account related so I have the progam assign it a random 8-digit account number and a random account open date. \n",
    "\n",
    "Accounts can close at any time so this is where the `account_status` list comes into play. The function randomly choices Y or N to tell me if the account is opened or closed. Depending on the output, the function filters the data even further. "
   ]
  },
  {
   "cell_type": "code",
   "execution_count": null,
   "metadata": {},
   "outputs": [],
   "source": [
    "            if account_status == \"Y\":\n",
    "                start_close = doc_date.toordinal()\n",
    "                end_close = current_date.toordinal()\n",
    "                account_close_date = current_date.fromordinal(random.randint(start_close, end_close))\n",
    "                sample_doc.append(\"YES\")\n",
    "                sample_doc.append(str(account_close_date))"
   ]
  },
  {
   "cell_type": "markdown",
   "metadata": {},
   "source": [
    "If the account is closed (Y), we need a close date. The program assigns a close date that is after the account open date and before the current date. "
   ]
  },
  {
   "cell_type": "code",
   "execution_count": null,
   "metadata": {},
   "outputs": [],
   "source": [
    "            if account_status == \"N\":\n",
    "                sample_doc.append(\"NO\")\n",
    "                sample_doc.append(\"0000-00-00 00:00:00\")"
   ]
  },
  {
   "cell_type": "markdown",
   "metadata": {},
   "source": [
    "If the account is still open (N) we just fill in zeros for the close date. \n",
    "\n",
    "And that's the overall gist of the doc generator function. It continues through each of the doc types in much the same manner, making small tweaks depending on the parameters of each doc type. \n",
    "\n",
    "The function finishes up by printing the complete doc data within the accumulator to the csv outfile. \n",
    "\n",
    "The last step is to execute the program. "
   ]
  },
  {
   "cell_type": "code",
   "execution_count": null,
   "metadata": {},
   "outputs": [],
   "source": [
    "for d in range(500):\n",
    "    main()"
   ]
  },
  {
   "cell_type": "markdown",
   "metadata": {},
   "source": [
    "The program is executed in a range of 500 to have the function run, generate a doc, and print it to the outfile 500 times. "
   ]
  }
 ],
 "metadata": {
  "kernelspec": {
   "display_name": "Python 3",
   "language": "python",
   "name": "python3"
  },
  "language_info": {
   "codemirror_mode": {
    "name": "ipython",
    "version": 3
   },
   "file_extension": ".py",
   "mimetype": "text/x-python",
   "name": "python",
   "nbconvert_exporter": "python",
   "pygments_lexer": "ipython3",
   "version": "3.7.4"
  }
 },
 "nbformat": 4,
 "nbformat_minor": 4
}
