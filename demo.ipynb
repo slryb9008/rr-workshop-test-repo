{
 "cells": [
  {
   "cell_type": "code",
   "execution_count": 3,
   "metadata": {},
   "outputs": [
    {
     "name": "stdout",
     "output_type": "stream",
     "text": [
      "current date is 2020-05-09 20:16:28.805209\n",
      "open date is 2001-01-01 00:00:00\n"
     ]
    }
   ],
   "source": [
    "import random\n",
    "from random import randint\n",
    "import datetime\n",
    "import csv\n",
    "current_date = datetime.datetime.today()\n",
    "open_date = datetime.datetime(2001,1,1)\n",
    "print(\"current date is\", current_date)\n",
    "print(\"open date is\", open_date)"
   ]
  },
  {
   "cell_type": "code",
   "execution_count": null,
   "metadata": {
    "jupyter": {
     "source_hidden": true
    }
   },
   "outputs": [],
   "source": []
  }
 ],
 "metadata": {
  "kernelspec": {
   "display_name": "Python 3",
   "language": "python",
   "name": "python3"
  },
  "language_info": {
   "codemirror_mode": {
    "name": "ipython",
    "version": 3
   },
   "file_extension": ".py",
   "mimetype": "text/x-python",
   "name": "python",
   "nbconvert_exporter": "python",
   "pygments_lexer": "ipython3",
   "version": "3.7.4"
  }
 },
 "nbformat": 4,
 "nbformat_minor": 4
}
