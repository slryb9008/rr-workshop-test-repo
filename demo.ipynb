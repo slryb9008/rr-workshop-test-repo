{
 "cells": [
  {
   "cell_type": "code",
   "execution_count": 3,
   "metadata": {},
   "outputs": [
    {
     "name": "stdout",
     "output_type": "stream",
     "text": [
      "The life is green\n",
      "The life is green\n",
      "The life is yellow\n",
      "The life is yellow\n",
      "The life is red\n",
      "The life is yellow\n",
      "The life is yellow\n",
      "The life is green\n",
      "The life is red\n",
      "The life is yellow\n"
     ]
    }
   ],
   "source": [
    "import random\n",
    "colors = [\"red\", \"green\", 'yellow',]\n",
    "def traffic_light():\n",
    "    return random.choice(colors)\n",
    "for i in range(10):\n",
    "    print(\"The life is\", traffic_light())"
   ]
  },
  {
   "cell_type": "code",
   "execution_count": null,
   "metadata": {},
   "outputs": [],
   "source": []
  }
 ],
 "metadata": {
  "kernelspec": {
   "display_name": "Python 3",
   "language": "python",
   "name": "python3"
  },
  "language_info": {
   "codemirror_mode": {
    "name": "ipython",
    "version": 3
   },
   "file_extension": ".py",
   "mimetype": "text/x-python",
   "name": "python",
   "nbconvert_exporter": "python",
   "pygments_lexer": "ipython3",
   "version": "3.7.4"
  }
 },
 "nbformat": 4,
 "nbformat_minor": 4
}
