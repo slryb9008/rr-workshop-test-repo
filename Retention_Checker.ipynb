{
 "cells": [
  {
   "cell_type": "markdown",
   "metadata": {},
   "source": [
    "## Retention Schedule Checker Program"
   ]
  },
  {
   "cell_type": "markdown",
   "metadata": {},
   "source": [
    "The main objectives of the Retention program are to:\n",
    "\n",
    "1. Pull in the sample doc data from the generated Sample Doc csv\n",
    "2. Clean up the document strings so they can be filtered\n",
    "3. Loop through each sample doc line and filter out any that meet certain trigger criteria based on document type codes\n",
    "4. Loop through the docs identified as \"eligible for destruction\" to identify any with legal holds (selected at random) \n",
    "5. Print final list of eligible docs to a csv outfile"
   ]
  },
  {
   "cell_type": "markdown",
   "metadata": {},
   "source": [
    "## The Program\n",
    "\n",
    "Like with the Sample Doc Generator, I start with calling the appropriate modules and laying out the foundation code. "
   ]
  },
  {
   "cell_type": "code",
   "execution_count": null,
   "metadata": {},
   "outputs": [],
   "source": [
    "from datetime import datetime\n",
    "from datetime import timedelta\n",
    "import random\n",
    "import csv\n",
    "current_date = datetime.today()\n",
    "print(\"today's date =\", current_date)\n",
    "\n",
    "infile = open('sample_docs.csv', 'r')\n",
    "doc_list = infile.readlines()\n",
    "infile.close()\n",
    "\n",
    "outfile = open('eligible_for_destruction.csv', 'w')\n",
    "doc_csv = csv.writer(outfile) #csv writer function"
   ]
  },
  {
   "cell_type": "markdown",
   "metadata": {},
   "source": [
    "One more step before executing the main program is to clean up the data pulled in from the csv. "
   ]
  },
  {
   "cell_type": "code",
   "execution_count": null,
   "metadata": {},
   "outputs": [],
   "source": [
    "doc_splits = []\n",
    "for doc in doc_list[1:]:\n",
    "    clean_one = doc.replace(\"[\",'')\n",
    "    clean_two = clean_one.replace(\"]\", '')\n",
    "    clean_three = clean_two.replace (\"'\",'')\n",
    "    clean_split = clean_three.split(\",\")\n",
    "    doc_splits.append(clean_split)"
   ]
  },
  {
   "cell_type": "markdown",
   "metadata": {},
   "source": [
    "This removes any extra brackets and quotations that were leftover in the line of data. I also split the strings into lists so each piece of data is its own string. \n",
    "\n",
    "Now I can run the main program!"
   ]
  },
  {
   "cell_type": "code",
   "execution_count": null,
   "metadata": {},
   "outputs": [],
   "source": [
    "retention_accumulator = []\n",
    "\n",
    "# ADM440: Doc Date + 3 Months\n",
    "for a in doc_splits:\n",
    "    doc_date = a[1]\n",
    "    doc_date_good = datetime.strptime(doc_date,\" %Y-%m-%d %H:%M:%S\")\n",
    "    if a[0] == \"ADM440\":\n",
    "        if (doc_date_good + timedelta(days=730)) < current_date:\n",
    "            retention_accumulator.append(a)"
   ]
  },
  {
   "cell_type": "markdown",
   "metadata": {},
   "source": [
    "I set up the main accumulator and a loop to run through my clean doc list. I need to convert the doc date into a datetime object in order to do any date-related computations so I do that by pulling out the [1] position of each doc. \n",
    "\n",
    "Next, I filter through each doc and look at the Doc Type (position[0]) and use the filter to check the retention trigger based on that. If the doc meets the criteria that makes it eligible for destruction, the list is added to the accumulator loop. \n",
    "\n",
    "Now we have to check for \"legal holds.\" "
   ]
  },
  {
   "cell_type": "code",
   "execution_count": null,
   "metadata": {},
   "outputs": [],
   "source": [
    "status_ref = (\"Y\",\"N\")\n",
    "for doc in retention_accumulator: #filter through for \"legal holds\"\n",
    "    eligible_no_holds = []\n",
    "    legal_hold = (random.choice(status_ref)) #is the doc on legal hold?\n",
    "    if legal_hold  == \"N\":\n",
    "        eligible_no_holds.append(doc)\n",
    "        print(eligible_no_holds, file = outfile)"
   ]
  },
  {
   "cell_type": "markdown",
   "metadata": {},
   "source": [
    "Similar to the Sample Generator's random assignment of account open/closed, this loop assigns a Y or N to randomly select docs on our list for \"legal hold.\" In reality this would be reflected by a separate list of specific docs but for these purposes they are selected at random. \n",
    "\n",
    "If \"on hold\" the for loop skips over the docs. If not on hold, the loop prints the doc data to our final outfile which serves as our ultimate list of docs currently eligible for destruction. "
   ]
  },
  {
   "cell_type": "markdown",
   "metadata": {},
   "source": [
    "[Next: GUI](https://github.com/slryb9008/rybicki1_final_project_IS452/blob/master/GUI.ipynb)"
   ]
  }
 ],
 "metadata": {
  "kernelspec": {
   "display_name": "Python 3",
   "language": "python",
   "name": "python3"
  },
  "language_info": {
   "codemirror_mode": {
    "name": "ipython",
    "version": 3
   },
   "file_extension": ".py",
   "mimetype": "text/x-python",
   "name": "python",
   "nbconvert_exporter": "python",
   "pygments_lexer": "ipython3",
   "version": "3.7.4"
  }
 },
 "nbformat": 4,
 "nbformat_minor": 4
}
