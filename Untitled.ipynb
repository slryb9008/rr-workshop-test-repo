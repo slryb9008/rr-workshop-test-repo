{
 "cells": [
  {
   "cell_type": "markdown",
   "metadata": {},
   "source": [
    "## Retention Schedule Guide"
   ]
  },
  {
   "cell_type": "markdown",
   "metadata": {},
   "source": [
    "This doc isn’t code but a reference guide that describes each document and its retention triggers. I selected a few examples of real document types that our bank uses with a variety of retention triggers. The most common retention trigger is based on the document creation date. This can range from a couple months after the document is created to ten years after.\n",
    "\n",
    "Some of the documents are just day-to-day administrative documents used within bank operations so they don’t pertain to a particular account. Other documents, are pertinent to a particular account. Some account documents are eligible for retention based on the document creation date but many depend on the date the account closes. Furthermore, some of these documents are subject to legal holds so even if the trigger event date has passed, the bank must still retain the document until the hold is lifted. "
   ]
  },
  {
   "cell_type": "markdown",
   "metadata": {},
   "source": [
    "| Document   Series   Code | Description                                                                                                                                                                                                                                                                                                                                  | Retention Trigger         | Eligible for Legal Hold |\n",
    "|--------------------------|----------------------------------------------------------------------------------------------------------------------------------------------------------------------------------------------------------------------------------------------------------------------------------------------------------------------------------------------|---------------------------|-------------------------|\n",
    "| ACC100                   | Records of accounts receivable, such as invoices, receipt records, receivables & receipt reports, and documentation supporting journal entries.                                                                                                                                                                                              |  Doc Date + 7 Years       | Yes                     |\n",
    "| ACC180                   | Reports and supporting records of unclaimed deposits, instruments, or other property.                                                                                                                                                                                                                                                        | Permanent                 |                         |\n",
    "| ACC160                   | Records documenting authority for expenditures or transactions, such as signature cards.                                                                                                                                                                                                                                                     | Doc Expiration + 7 Years  | Yes                     |\n",
    "| ACC300                   | The general ledger summaries of financial transactions                                                                                                                                                                                                                                                                                       | Doc Date + 10 Years       | Yes                     |\n",
    "| ACC340                   | Records containing summaries of account balances and transactions from the general ledger.                                                                                                                                                                                                                                                   | Doc Date + 2 Years        |                         |\n",
    "| ACC400                   | Records of compensation payments to employees, withholding, and unemployment and employment tax, including payment records, payroll information, deductions, garnishments, tax returns, workpapers, W Forms, filings, and supporting documentation.                                                                                          | Doc Date + 8 Years        | Yes                     |\n",
    "| ACC500                   | Annual & Quarterly Financial Reports\t                                                                                                                                                                                                                                                                                                         | Doc Date + 7 Years        |                         |\n",
    "| ACC520                   | Short-Term Financial and Accounting Reports\t                                                                                                                                                                                                                                                                                                  | Doc Date + 3 Years        |                         |\n",
    "| ADM440                   | Records of visitor access, including visitors logs.                                                                                                                                                                                                                                                                                          | Doc Date + 3 Months       |                         |\n",
    "| BNK100                   | Records of deposit account identification and authority, including customer identification information, taxpayer identification numbers, signature authorizations, resolutions, and powers of attorney.                                                                                                                                      | Account Closed + 7 Years  |                         |\n",
    "| BNK120                   | Records of deposit account transactions, including deposit tickets and withdrawal receipts; certified and cashier's checks and registers; drafts and registers; direct, electronic, and wire transfers; and night depository records.                                                                                                        | Doc Date + 7 Years        |                         |\n",
    "| BNK130                   | Service charge records for deposit accounts.                                                                                                                                                                                                                                                                                                 | Doc Date + 10 Years       |                         |\n",
    "| BNK140                   | Records of routine administration of deposit accounts, including daily reports, analysis worksheets, cash letters, copies of advices, and trial balances.                                                                                                                                                                                    | Doc Date + 3 Years        |                         |\n",
    "| BNK160                   | Records of deposit account stop payment orders.                                                                                                                                                                                                                                                                                              | Expiration Date + 2 Years |                         |\n",
    "| BNK170                   | Certificates of deposit records, including certificates, ledgers, and registers.                                                                                                                                                                                                                                                             | Account Closed + 7 Years  |                         |\n",
    "| BNK180                   | Records of deposit items for clearance through issuing bank.                                                                                                                                                                                                                                                                                 | Doc Date + 3 Years        |                         |\n",
    "| BNK300                   | Records of loans and credit accounts owned or serviced by Enterprise Bank & Trust, including application and determination records; customer identifying information; notes, mortgages, security agreements, and collateral records; credit or lending amounts and terms; and mortgage loan settlement statements, disclosures, and notices. | Account Closed + 7 Years  |                         |\n",
    "| BNK400                   | Records of cash and teller banking transactions, including cash transaction customer identification information, official checks, cash items and registers, and teller reconciliations.                                                                                                                                                      | Doc Date + 7 Years        |                         |\n",
    "| GEN210                   | Records of incoming and outgoing registered mail, including receipts.                                                                                                                                                                                                                                                                        | Doc Date + 7 Years        |                         |"
   ]
  }
 ],
 "metadata": {
  "kernelspec": {
   "display_name": "Python 3",
   "language": "python",
   "name": "python3"
  },
  "language_info": {
   "codemirror_mode": {
    "name": "ipython",
    "version": 3
   },
   "file_extension": ".py",
   "mimetype": "text/x-python",
   "name": "python",
   "nbconvert_exporter": "python",
   "pygments_lexer": "ipython3",
   "version": "3.7.4"
  }
 },
 "nbformat": 4,
 "nbformat_minor": 4
}
