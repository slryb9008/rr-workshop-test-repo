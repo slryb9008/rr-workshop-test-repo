{
 "cells": [
  {
   "cell_type": "markdown",
   "metadata": {},
   "source": [
    "## Retention Schedule Guide"
   ]
  },
  {
   "cell_type": "markdown",
   "metadata": {},
   "source": [
    "This doc isn’t code but a reference guide that describes each document and its retention triggers. I selected a few examples of real document types that our bank uses with a variety of retention triggers. The most common retention trigger is based on the document creation date. This can range from a couple months after the document is created to ten years after.\n",
    "\n",
    "Some of the documents are just day-to-day administrative documents used within bank operations so they don’t pertain to a particular account. Other documents, are pertinent to a particular account. Some account documents are eligible for retention based on the document creation date but many depend on the date the account closes. Furthermore, some of these documents are subject to legal holds so even if the trigger event date has passed, the bank must still retain the document until the hold is lifted. "
   ]
  },
  {
   "cell_type": "markdown",
   "metadata": {},
   "source": [
    "Document Series Code\tDescription\tRetention\tTrigger Event\n",
    "ACC100\tAccounts Receivable\tRecords of accounts receivable, such as invoices, receipt records, receivables & receipt reports, and documentation supporting journal entries.\t7 Years (Disposal Requires Tax Approval)\tDoc Date\n",
    "ACC180\tUnclaimed Property\tReports and supporting records of unclaimed deposits, instruments, or other property.\tPermanent\tDoc Series\n",
    "ACC160\tTransaction Authorizations\tRecords documenting authority for expenditures or transactions, such as signature cards.\tExpired or Superseded + 7 Years (Disposal Requires Tax Approval)\tDoc Expiration Date\n",
    "ACC300\tGeneral Ledger\tThe general ledger summaries of financial transactions.\t10 Years (Disposal Requires Tax Approval)\tDoc Date\n",
    "ACC340\tTrial Balances\tRecords containing summaries of account balances and transactions from the general ledger.\t2 Years\tDoc Date\n",
    "ACC400\tPayroll\tRecords of compensation payments to employees, withholding, and unemployment and employment tax, including payment records, payroll information, deductions, garnishments, tax returns, workpapers, W Forms, filings, and supporting documentation.\t8 Years (Disposal Requires Tax Approval)\tDoc Date\n",
    "ACC500\tAnnual & Quarterly Financial Reports\t\"Annual and quarterly financial reports.\t7 Years\tDoc Date\n",
    "ACC520\tShort-Term Financial and Accounting Reports\tShort-term financial and accounting reports.\t3 Years\tDoc Date\n",
    "ADM440\tVisitors Logs\tRecords of visitor access, including visitors logs.\t3 Months\tDoc Date\n",
    "BNK100\tDeposit Account Records\tRecords of deposit account identification and authority, including customer identification information, taxpayer identification numbers, signature authorizations, resolutions, and powers of attorney.\tAccount Closed + 7 Years\tClosing Date\n",
    "BNK120\tDeposit Account Transactions\tRecords of deposit account transactions, including deposit tickets and withdrawal receipts; certified and cashier's checks and registers; drafts and registers; direct, electronic, and wire transfers; and night depository records.\t7 Years\tDoc Date\n",
    "BNK130\tDeposit Account Service Charges\tService charge records for deposit accounts.\t10 Years\tDoc Date\n",
    "BNK140\tDeposit Account Administration\tRecords of routine administration of deposit accounts, including daily reports, analysis worksheets, cash letters, copies of advices, and trial balances.\t3 Years\tDoc Date\n",
    "BNK160\tStop Payment Orders\tRecords of deposit account stop payment orders.\tUntil Expired + 2 Years\tExpiration Date\n",
    "BNK170\tCertificates of Deposit\tCertificates of deposit records, including certificates, ledgers, and registers.\tPaid + 7 Years\tClose Date\n",
    "BNK180\tCollection Transactions\tRecords of deposit items for clearance through issuing bank.\t3 Years\tDoc Date\n",
    "BNK300\tLoan & Credit Account Records\tRecords of loans and credit accounts owned or serviced by Enterprise Bank & Trust, including application and determination records; customer identifying information; notes, mortgages, security agreements, and collateral records; credit or lending amounts and terms; and mortgage loan settlement statements, disclosures, and notices.\tSold or Paid + 7 Years\tClose Date\n",
    "BNK400\tCash & Teller Transactions\tRecords of cash and teller banking transactions, including cash transaction customer identification information, official checks, cash items and registers, and teller reconciliations.\t7 Years\tDoc Date\n",
    "GEN200\tGeneral Correspondence and Reports\tBusiness correspondence or reports of a general nature that are not contained in other record series in this retention schedule.\t5 Years\tDoc Date\n",
    "GEN210\tRegistered Mail\tRecords of incoming and outgoing registered mail, including receipts.\t7 Years\tDoc Date\n"
   ]
  }
 ],
 "metadata": {
  "kernelspec": {
   "display_name": "Python 3",
   "language": "python",
   "name": "python3"
  },
  "language_info": {
   "codemirror_mode": {
    "name": "ipython",
    "version": 3
   },
   "file_extension": ".py",
   "mimetype": "text/x-python",
   "name": "python",
   "nbconvert_exporter": "python",
   "pygments_lexer": "ipython3",
   "version": "3.7.4"
  }
 },
 "nbformat": 4,
 "nbformat_minor": 4
}
