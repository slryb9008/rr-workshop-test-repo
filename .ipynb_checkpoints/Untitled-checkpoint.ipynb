{
 "cells": [
  {
   "cell_type": "markdown",
   "metadata": {},
   "source": [
    "## Retention Schedule Guide"
   ]
  },
  {
   "cell_type": "markdown",
   "metadata": {},
   "source": [
    "This doc isn’t code but a reference guide that describes each document and its retention triggers. I selected a few examples of real document types that our bank uses with a variety of retention triggers. The most common retention trigger is based on the document creation date. This can range from a couple months after the document is created to ten years after.\n",
    "\n",
    "Some of the documents are just day-to-day administrative documents used within bank operations so they don’t pertain to a particular account. Other documents, are pertinent to a particular account. Some account documents are eligible for retention based on the document creation date but many depend on the date the account closes. Furthermore, some of these documents are subject to legal holds so even if the trigger event date has passed, the bank must still retain the document until the hold is lifted. "
   ]
  },
  {
   "cell_type": "markdown",
   "metadata": {},
   "source": [
    "| Doc Series  |    Doc                                             | Retention   |\n",
    "|    Code     | Description                                        |  Trigger    |\n",
    "| ----------- | -------------------------------------------------- |--------------\n",
    "| ACC100      | Accounts Receivable\tRecords of accounts receivable,| 7 Years from|\n",
    "|             | such as invoices, receipt records, receivables &   | doc creation|\n",
    "|             | receipt reports, and documentation supporting      |             |\n",
    "|             | journal entries.                                   |             |\n",
    "|-------------|----------------------------------------------------|-------------|              \n"
   ]
  }
 ],
 "metadata": {
  "kernelspec": {
   "display_name": "Python 3",
   "language": "python",
   "name": "python3"
  },
  "language_info": {
   "codemirror_mode": {
    "name": "ipython",
    "version": 3
   },
   "file_extension": ".py",
   "mimetype": "text/x-python",
   "name": "python",
   "nbconvert_exporter": "python",
   "pygments_lexer": "ipython3",
   "version": "3.7.4"
  }
 },
 "nbformat": 4,
 "nbformat_minor": 4
}
